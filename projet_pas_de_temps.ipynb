{
 "cells": [
  {
   "cell_type": "markdown",
   "metadata": {},
   "source": [
    "# Projet numérique 2"
   ]
  },
  {
   "cell_type": "markdown",
   "metadata": {},
   "source": [
    "## Algorithme d'Euler avec un pas Fixe"
   ]
  },
  {
   "cell_type": "code",
   "execution_count": 2,
   "metadata": {},
   "outputs": [],
   "source": [
    "import matplotlib.pyplot as plt\n",
    "from numpy import *"
   ]
  },
  {
   "cell_type": "code",
   "execution_count": 3,
   "metadata": {},
   "outputs": [],
   "source": [
    "def solve_euler_explicit(f, x0, dt, tSim):\n",
    "    t = arange(x0[1],tSim,dt)\n",
    "    x = zeros(len(t))\n",
    "    x[0] = x0[0]\n",
    "    for i in range(1,len(t)):\n",
    "        x[i] = x[i-1] + dt * f(t[i-1], x[i-1])\n",
    "\n",
    "    return t, x"
   ]
  },
  {
   "cell_type": "markdown",
   "metadata": {},
   "source": [
    "On teste cette fonction avec l'équation différentielle $y'=ay$ avec $ a \\in \\mathbb{R} $ ayant pour solution une exponentielle."
   ]
  },
  {
   "cell_type": "code",
   "execution_count": 4,
   "metadata": {},
   "outputs": [],
   "source": [
    "def f(t,x):\n",
    "    return -0.02*x"
   ]
  },
  {
   "cell_type": "code",
   "execution_count": 5,
   "metadata": {
    "scrolled": false
   },
   "outputs": [
    {
     "data": {
      "image/png": "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\n",
      "text/plain": [
       "<Figure size 432x288 with 1 Axes>"
      ]
     },
     "metadata": {
      "needs_background": "light"
     },
     "output_type": "display_data"
    }
   ],
   "source": [
    "t, x = solve_euler_explicit(f,[1,0], 2, 100)\n",
    "y = exp(-0.02*t)\n",
    "plt.plot(t,x)\n",
    "plt.plot(t,y)\n",
    "plt.show()"
   ]
  },
  {
   "cell_type": "markdown",
   "metadata": {},
   "source": [
    "On voit que la notre fonction approchée approxime bien la solution même pour un pas non négligeable par rapport à l'intervalle de résolution ( pas de 2 sur l'intervalle $[0,100]$)."
   ]
  },
  {
   "cell_type": "markdown",
   "metadata": {},
   "source": [
    "L'erreur est definie comme la distance entre $f_{théorique}$ et $f_{approchée}$ au sens de la norme infinie \n",
    "<br>\n",
    "On réalise une foction intermediaire qui calcule cette erreur:"
   ]
  },
  {
   "cell_type": "code",
   "execution_count": 7,
   "metadata": {
    "scrolled": false
   },
   "outputs": [],
   "source": [
    "def erreur(x,t,f):\n",
    "    return max(abs(x-f(t)))\n"
   ]
  },
  {
   "cell_type": "markdown",
   "metadata": {},
   "source": [
    "On choisi de représenter l'erreur en fonction du pas avec une echelle log-log, car ça nous permet de montrer les variation de l'erreur sur une grande plage de valeurs pour le pas. Choisir une echelle log pour les axe des ordonnées est adapté si la convergence est d'ordre k, car dans ce cas la courbe theorique que l'on doit obtenir est une droite de pente k\n",
    "<br>\n",
    "On est forcé de réduire la durée de simulation pour que les calculs ne soient pas trop long "
   ]
  },
  {
   "cell_type": "code",
   "execution_count": 18,
   "metadata": {},
   "outputs": [
    {
     "data": {
      "image/png": "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\n",
      "text/plain": [
       "<Figure size 432x288 with 1 Axes>"
      ]
     },
     "metadata": {
      "needs_background": "light"
     },
     "output_type": "display_data"
    }
   ],
   "source": [
    "#Illustration de la convergence du schéma à l'ordre 1\n",
    "fig, ax = plt.subplots()\n",
    "\n",
    "listeDT = power(10,arange(-9.,-2,1))\n",
    "listeErr = []\n",
    "for dt in listeDT:\n",
    "    t, x = solve_euler_explicit(f,[1,0], dt, 1e-3)\n",
    "    listeErr.append(erreur(x,t,lambda t:exp(-0.02*t)))\n",
    "\n",
    "plt.plot(listeDT,listeErr,'.')\n",
    "ax.set_title(\"Erreur en fonction du pas pour le schéma d'Euler\")\n",
    "ax.set_xscale('log')\n",
    "ax.set_yscale('log')\n",
    "ax.set_xlabel('pas')\n",
    "ax.set_ylabel('erreur')\n",
    "plt.show()"
   ]
  },
  {
   "cell_type": "markdown",
   "metadata": {},
   "source": [
    "On observe bien le caractère convergent à l'ordre 1 du schéma pour des pas relativement grands (de $10^{-4}$ à $10^{-7}$). Pour des pas plus petits que $10^{-7}$, les erreurs d'arrondi ne sont plus négligeables devant les erreurs liées à la méthode d'approximation de la solution."
   ]
  },
  {
   "cell_type": "markdown",
   "metadata": {},
   "source": [
    "On choisit ensuite la méthode de Heun comme schéma d'ordre 2."
   ]
  },
  {
   "cell_type": "code",
   "execution_count": 17,
   "metadata": {},
   "outputs": [
    {
     "data": {
      "image/png": "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\n",
      "text/plain": [
       "<Figure size 432x288 with 1 Axes>"
      ]
     },
     "metadata": {
      "needs_background": "light"
     },
     "output_type": "display_data"
    }
   ],
   "source": [
    "def solve_heun_explicit(f, x0, dt, tSim):\n",
    "    t = arange(x0[1],tSim,dt)\n",
    "    x = zeros(len(t))\n",
    "    x[0] = x0[0]\n",
    "    for i in range(1,len(t)):\n",
    "        x[i] = x[i-1] + dt/2 * (f(t[i-1], x[i-1]) + f(t[i],x[i-1] + dt*f(t[i-1],x[i-1])))\n",
    "\n",
    "    return t, x\n",
    "\n",
    "#Illustration de la convergence du schéma à l'ordre 2\n",
    "fig, ax = plt.subplots()\n",
    "\n",
    "listeDT = power(10,arange(-7.,0,1))\n",
    "listeErr = []\n",
    "for dt in listeDT:\n",
    "    t, x = solve_heun_explicit(f,[1,0], dt, 1e-1)\n",
    "    listeErr.append(erreur(x,t,lambda t:exp(-0.02*t)))\n",
    "\n",
    "plt.plot(listeDT,listeErr,'.')\n",
    "ax.set_title(\"Erreur en fonction du pas pour le schéma de Heun\")\n",
    "ax.set_xscale('log')\n",
    "ax.set_yscale('log')\n",
    "ax.set_xlabel('pas')\n",
    "ax.set_ylabel('erreur')\n",
    "plt.show()"
   ]
  },
  {
   "cell_type": "markdown",
   "metadata": {},
   "source": [
    "Pour les pas relativement grands (tel que l'erreur d'arrondi soit négligeable), on observe une droite d'une pente 2 (car l'échelle est logarithmique). Il s'agit bien d'un schéma d'ordre 2. On observe toujours les erreurs d'arrondi pour les pas plus petits."
   ]
  },
  {
   "cell_type": "markdown",
   "metadata": {},
   "source": [
    "## Euler avec pas variable"
   ]
  },
  {
   "cell_type": "markdown",
   "metadata": {},
   "source": [
    "On calcule $e^{j+1}$: \n",
    "<br> \n",
    "<br> \n",
    "\n",
    "\\begin{equation}\n",
    "\\begin{split}\n",
    "e^{j+1} & = x^{j}+\\displaystyle{\\int_{t_{j}}^{t_{j+1}} f(s,x(s)) \\, \\mathrm{d}s } - x^{j+1} \\\\\n",
    "&=\\displaystyle{\\int_{t_{j}}^{t_{j+1}} f(s,x(s)) \\, \\mathrm{d}s }  - \\Delta{t_{j}}f(t_{j},x^{j}) \\\\\n",
    "&=\\displaystyle{\\int_{0}^{\\Delta{t_{j}}} \\Big( f\\big(t_{j},x(t_{j})\\big)+\\frac{\\partial{f}}{\\partial{t}}\\big(t_{j},x(t_{j})\\big)s+\\frac{\\partial{x}}{\\partial{t}}(t_{j})\\ \\  \\frac{\\partial{f}}{\\partial{x}}\\big(t_{j},x(t_{j})\\big)s +  \\mathrm{O}(s^2)  \\Big) \\mathrm{d}s }  \\; - \\Delta{t_{j}}f(t_{j},x^{j}) \\\\\n",
    "&=\\frac{\\Delta{t_{j}}^2}{2} \\Big( \\frac{\\partial{f}}{\\partial{t}}\\big(t_{j},x(t_{j})\\big)+f\\big(t_{j},x(t_{j})\\big) \\ \\   \\frac{\\partial{f}}{\\partial{x}}\\big(t_{j},x(t_{j})\\big) \\Big) + \\mathrm{O}(\\Delta{t_{j}^3}) \\quad \\text{car} \\quad \\frac{\\partial{x}}{\\partial{t}}(t_{j}) = f\\big(t_{j},x(t_{j})\\big) \\quad \\text{et on peut intégrer le grand O}\\\\\n",
    "\\end{split}\n",
    "\\end{equation}\n",
    "\n",
    "Or: \n",
    "\n",
    "\\begin{equation}\n",
    "\\begin{split}\n",
    "f(t_{j+1},x^{j+1})-f(t_{j},x^{j})&=f\\big(t_{j}+\\Delta{t_{j}},x^{j}+\\Delta{t_{j}}f(t_{j},x^{j})\\big)-f(t_{j},x^{j}) \\\\\n",
    "&=\\Delta{t_{j}}  \\Big(\\frac{\\partial{f}}{\\partial{t}}(t_{j},x^{j}) + f(t_{j},x^{j})\\frac{\\partial{f}}{\\partial{x}}\\big(t_{j},x^{j})\\big)\\Big)\n",
    "\\\\&=\\Delta{t_{j}}  \\Big(\\frac{\\partial{f}}{\\partial{t}}(t_{j},x(t_{j})) + f(t_{j},x(t_{j}))\\frac{\\partial{f}}{\\partial{x}}\\big(t_{j},x(t_{j})\\big)\\Big)\n",
    "\\end{split}\n",
    "\\end{equation}\n",
<<<<<<< HEAD
    "On a considéré ici que puisque l'on calculait l'erreur sur une seule étape, on prennait $x^{j} = x(t_{j})$. Si ce n'est pas le cas, on peut toujours utiliser la convergence du schéma d'Euler explicite pour retrouver le même résultat, mais on aurait alors besoin d'avoir f$\\in$$C^{2}$.\n",
    "<br>\n",
=======
    "\n",
    "On peut encore modifier l'expression de $e^{j+1}$. En effet, la convergence du schéma d'euler peut s'écrire:\n",
    "\n",
    "\n",
>>>>>>> 56de69762018b0222d98328376296d3bcf9b597c
    "Si f est à valeur vectorielle, on utilise le résulat obtenu précedement sur les fonctions coordonnées de f, on obtient bien dans le cas général:\n",
    "\\begin{equation}\n",
    "\\left\\|e^{j+1}\\right\\| = \\Delta{t_{j}} \\frac{\\left\\|f(t_{j+1},x^{j+1})-f(t_{j},x^{j})\\right\\|}{2}+\\mathrm{O}(\\Delta{t_{j}}^3)\n",
    "\\end{equation}\n",
    "\n",
    "\n",
    "\n",
    "\n"
   ]
  },
  {
   "cell_type": "markdown",
   "metadata": {},
   "source": [
    "La fonction suivante résout une équation différentielle du premier ordre selon le schéma d'Euler explicite. Elle prend en argument $f$ la fonction telle que l'équation differentielle à résoudre s'écrive: $y'(t)=f(t,y(t))$, t0 et x0 la condition initiale, t_f le temps auquel le programme s'arrête, dtmin le pas de temps minimal entre 2 points calculés, dtmax le pas de temps entre 2 points qui vont être effectivement retournés (et dtmax/2 le pas de temps maximal entre 2 points calculés) et atol la tolérance utilisée pour calculer le dt.\n",
    "Elle renvoie ts la liste des temps et xs.T (le vecteur colonne des valeurs de la solution). Le programme enregistre donc un point tous les dtmax."
   ]
  },
  {
   "cell_type": "code",
   "execution_count": 19,
   "metadata": {},
   "outputs": [],
   "source": [
    "def solve_ivp_euler_explicit_variable_step(f, t0, x0, t_f, dtmin = 1e-16, dtmax = 0.01, atol = 1e-6):\n",
    "    \n",
    "    #initialisation\n",
    "    dt = dtmax/10; # le pas de temps dt initial est dtmax/10\n",
    "    ts, xs = [t0], [x0]  # on initialise les 2 listes où on stockera les points calculés avec le point initial\n",
    "    t = t0 #le temps du dernier point est le temps initial\n",
    "    ti = 0  #ti est le temps depuis le dernier point enregistré, il est donc initialisé à 0\n",
    "    x = x0 #le x du dernier point est le x du point initial (x represente la dernière valeur calculée pour la solution)\n",
    "    \n",
    "    while ts[-1] < t_f: \n",
    "        #A chaque itération de cette boucle on calcule un point qu'on retournera. \n",
    "        #Elle s'arrête lorsqu'on a atteint t_f le temps final\n",
    "        \n",
    "        while ti < dtmax:\n",
    "            #A chaque itération de cette boucle on calcule un nouveau point, avec un pas variable\n",
    "            #Elle s'arrête lorsqu'on a dépassé le prochain point à enregistrer\n",
    "            \n",
    "            t_next, ti_next, x_next = t + dt, ti + dt, x + dt * f(x)#on calcule le nouveau point selon le schéma Euler explicite, avec un pas dt\n",
    "            x_back = x_next - dt * f(x_next) #On calcule une duxième quantitée pour obtenir ratio_abs_error, puis le nouveau dt\n",
    "            \n",
    "            ratio_abs_error = atol / (linalg.norm(x_back-x)/2)\n",
    "            dt = 0.9 * dt * sqrt(ratio_abs_error) \n",
    "            #D'après les définitions précédentes, x_back - x = dt*(f(x_next) - f(x)), donc dt * ratio_abs_error est bien\n",
    "            #le dt_new de la question précédente. \n",
    "            #On a pris une marge de sécurité en rajoutant le facteur 0.9 (le pas est plus petit que prévu, la résolution est donc normalement plus précise.)\n",
    "            \n",
    "            if dt < dtmin:  #Si le pas de temps devient trop petit (la fonction est trop instable), la fonction raise une erreur\n",
    "                raise ValueError(\"Time step below minimum\")\n",
    "            elif dt > dtmax/2: #Si le pas de temps est trop grand, on prend dtmax/2\n",
    "                dt = dtmax/2\n",
    "            t, ti, x = t_next, ti_next, x_next #On prend le nouveau point comme point de départ\n",
    "            \n",
    "        #lorsqu'on a dépassé le prochain point à enregistrer, on va le calculer à partir du dernier point\n",
    "        dt2DT = dtmax - ti # dt2DT est le temps (négatif) qui sépare le dernier point et le point à calculer\n",
    "        t_next, ti_next, x_next = t + dt2DT, 0, x + dt2DT * f(x) #on calcule le point à enregistrer grâce au schéma d'Euler explicite \n",
    "        ts = vstack([ts,t_next]) \n",
    "        xs = vstack([xs,x_next]) #On rajoute le point à enregistrer dans la liste que l'on va return\n",
    "        t, ti, x = t_next, ti_next, x_next #on prend le point à enregistrer comme point de départ\n",
    "    return (ts, xs.T) #On return les listes solutions. \n",
    "    #Comme on a utilisé vstack, les listes sont verticales. La fonction return donc xs.T qui est une liste unidimensionnelle"
   ]
  },
  {
   "cell_type": "markdown",
   "metadata": {},
   "source": [
    "La fonction suivante est la même que la précédente mais modifiée dans le but d'illustrer son fonctionnement.\n",
    "<br>\n",
    "On conserve les points qui ne sont pas censés être retourné à la fin, pour montrer où ils sont placés"
   ]
  },
  {
   "cell_type": "code",
   "execution_count": 21,
   "metadata": {},
   "outputs": [],
   "source": [
    "def solve_ivp_euler_explicit_variable_step_illustr(f, t0, x0, t_f, dtmin = 1e-16, dtmax = 0.01, atol = 1e-6):\n",
    "    dt = dtmax/10;\n",
    "    ts, xs = [t0], [x0]\n",
    "    t = t0\n",
    "    ti = 0\n",
    "    x = x0\n",
    "    tr = []\n",
    "    xr = []\n",
    "    while ts[-1] < t_f: \n",
    "        while ti < dtmax:\n",
    "            t_next, ti_next, x_next = t + dt, ti + dt, x + dt * f(x)\n",
    "            x_back = x_next - dt * f(x_next)\n",
    "            ratio_abs_error = atol / (linalg.norm(x_back-x)/2)\n",
    "            dt = 0.9 * dt * sqrt(ratio_abs_error)\n",
    "            if dt < dtmin:\n",
    "                raise ValueError(\"Time step below minimum\")\n",
    "            elif dt > dtmax/2:\n",
    "                dt = dtmax/2\n",
    "            tr.append(t)\n",
    "            xr.append(x)\n",
    "            t, ti, x = t_next, ti_next, x_next\n",
    "        dt2DT = dtmax - ti\n",
    "        t_next, ti_next, x_next = t + dt2DT, 0, x + dt2DT * f(x)\n",
    "        ts = vstack([ts,t_next]) \n",
    "        xs = vstack([xs,x_next])\n",
    "        t, ti, x = t_next, ti_next, x_next\n",
    "    ts = ts.T\n",
    "    xs = xs.T\n",
    "    plt.scatter(tr,xr,color=\"blue\")\n",
    "    plt.scatter(ts,xs,color=\"orange\")\n",
    "    plt.show()"
   ]
  },
  {
   "cell_type": "code",
   "execution_count": 22,
   "metadata": {
    "scrolled": true
   },
   "outputs": [
    {
     "data": {
      "image/png": "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\n",
      "text/plain": [
       "<Figure size 432x288 with 1 Axes>"
      ]
     },
     "metadata": {
      "needs_background": "light"
     },
     "output_type": "display_data"
    }
   ],
   "source": [
    "def g(x):\n",
    "    return 0.8*x\n",
    "\n",
    "solve_ivp_euler_explicit_variable_step_illustr(g,0,1,10,0.01,1,1)"
   ]
  },
  {
   "cell_type": "markdown",
   "metadata": {},
   "source": [
    "On voit que lorsque la fonction a une dérivée faible, peu des points sont calculés, et lorsque la dérivée devient plus élevée, plus de points sont calculés pour réduire l'erreur.\n",
    "En orange sont représentés les point effectivmeent retournés par la fonction solve, et en bleu les point calculé simplement pour garantir une précision minimale."
   ]
  },
  {
   "cell_type": "code",
   "execution_count": null,
   "metadata": {},
   "outputs": [],
   "source": []
  }
 ],
 "metadata": {
  "kernelspec": {
   "display_name": "Python 3",
   "language": "python",
   "name": "python3"
  },
  "language_info": {
   "codemirror_mode": {
    "name": "ipython",
    "version": 3
   },
   "file_extension": ".py",
   "mimetype": "text/x-python",
   "name": "python",
   "nbconvert_exporter": "python",
   "pygments_lexer": "ipython3",
   "version": "3.7.3"
  }
 },
 "nbformat": 4,
 "nbformat_minor": 2
}
