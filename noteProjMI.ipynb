{
 "cells": [
  {
   "cell_type": "markdown",
   "metadata": {},
   "source": [
    "# Projet Maths-Info"
   ]
  },
  {
   "cell_type": "markdown",
   "metadata": {},
   "source": [
    "On cherche à tracer les lignes de niveau d'une fonction à deux variables."
   ]
  },
  {
   "cell_type": "code",
   "execution_count": 3,
   "metadata": {},
   "outputs": [],
   "source": [
    "import autograd\n",
    "import autograd.numpy as np\n",
    "import matplotlib.pyplot as plt\n",
    "from scipy.optimize import bisect"
   ]
  },
  {
   "cell_type": "markdown",
   "metadata": {},
   "source": [
    "Pour une fonction f continue, si c ∈ [f(0,0),f(0,1)] ou c ∈ [f(0,1),f(0,0)], alors le théorème des valeurs intermédiaires garantit l'existence d'un t ∈ [0,1] tel que f(0,t) = c\n",
    "On choisit donc cette condition."
   ]
  },
  {
   "cell_type": "markdown",
   "metadata": {},
   "source": [
    "Pour le programme find_seed, nous procédons par dichotomie."
   ]
  },
  {
   "cell_type": "code",
   "execution_count": 2,
   "metadata": {},
   "outputs": [],
   "source": [
    "def dichotomie(f,a,b,epsilon):\n",
    "    g,d=a,b\n",
    "    while (d-g)>epsilon:\n",
    "        c=(d+g)/2\n",
    "        if f(a)*f(c)<0:\n",
    "            d=c\n",
    "        else:\n",
    "            g=c\n",
    "    return c\n",
    "\n",
    "\n",
    "def find_seed(g, c=0.0, eps=2**(-26)):\n",
    "    if (g(0,0)-c)*(g(0,1)-c)<0:\n",
    "        tmp=lambda x : g(0,x)-c  \n",
    "        return dichotomie(tmp,0,1,2**-26)\n",
    "    else:\n",
    "        return None"
   ]
  },
  {
   "cell_type": "markdown",
   "metadata": {},
   "source": [
    "Le gradient étant toujours orthogonal aux lignes de niveaux, nous calculons le gradient pour prendre un vecteur orthogonal. On lui donne une norme delta et on l'additionne à notre point x,y précédent."
   ]
  },
  {
   "cell_type": "code",
   "execution_count": 4,
   "metadata": {},
   "outputs": [],
   "source": [
    "def grad_f(x, y):\n",
    "    g = autograd.grad\n",
    "    return np.r_[g(f, 0)(x, y), g(f, 1)(x, y)]\n",
    "\n",
    "\n",
    "def simple_contour(f, c=0.0, delta=0.01):\n",
    "    X,Y=[],[]\n",
    "    d0=find_seed(f,c)\n",
    "    if d0!=None:\n",
    "        x,y=0.0001,d0\n",
    "        gradient=grad_f(x,y)\n",
    "        s = 1\n",
    "        if gradient[1] < 0:\n",
    "            s = -1\n",
    "        print(s)\n",
    "        while 0<=x<1 and 0<=y<1:\n",
    "            X.append(x)\n",
    "            Y.append(y)\n",
    "            gradient=grad_f(x,y)\n",
    "            n=[gradient[1],-gradient[0]]\n",
    "            norme=s*np.sqrt(n[0]**2+n[1]**2)\n",
    "            if norme!=0:\n",
    "                x+=delta/norme*n[0]\n",
    "                y+=delta/norme*n[1]\n",
    "            else:\n",
    "                break\n",
    "        \n",
    "    return X,Y"
   ]
  },
  {
   "cell_type": "markdown",
   "metadata": {},
   "source": [
    "On teste la fonction sur un exemple."
   ]
  },
  {
   "cell_type": "code",
   "execution_count": 11,
   "metadata": {},
   "outputs": [
    {
     "name": "stdout",
     "output_type": "stream",
     "text": [
      "1\n"
     ]
    },
    {
     "data": {
      "text/plain": [
       "[<matplotlib.lines.Line2D at 0x25aedccef28>]"
      ]
     },
     "execution_count": 11,
     "metadata": {},
     "output_type": "execute_result"
    },
    {
     "data": {
      "image/png": "[encoded data removed]",
      "text/plain": [
       "<Figure size 432x288 with 2 Axes>"
      ]
     },
     "metadata": {
      "needs_background": "light"
     },
     "output_type": "display_data"
    }
   ],
   "source": [
    "f=lambda x,y:x**2+y**2\n",
    "X,Y=np.linspace(0,1,100),np.linspace(0,1,100)\n",
    "\n",
    "X,Y=np.meshgrid(X,Y)\n",
    "\n",
    "Z=f(X,Y)\n",
    "\n",
    "plt.pcolormesh(X, Y, Z,cmap='PuBu_r')\n",
    "plt.colorbar()\n",
    "\n",
    "X_l,Y_l=simple_contour(f,0.5)\n",
    "plt.plot(X_l,Y_l,color=\"black\")"
   ]
  },
  {
   "cell_type": "markdown",
   "metadata": {},
   "source": [
    "Pour la fonction contour, nous avons du adapter la fonction find_seed pour pouvoir trouver un point sur n'importe quel coté d'une case de la grille crée. Nous avons écrit une fonction case qui trouve tous les points de la ligne de niveau dans une case. "
   ]
  },
  {
   "cell_type": "code",
   "execution_count": 10,
   "metadata": {},
   "outputs": [],
   "source": [
    "def find_seed_4(g,c,x0,y0,x1,y1, eps=2**(-26)):\n",
    "    if (g(x0,y0)-c)*(g(x0,y1)-c)<0:\n",
    "        tmp=lambda x : g(x0,x)-c  \n",
    "        return x0,dichotomie(tmp,y0,y1,2**-26)\n",
    "    if (g(x0,y1)-c)*(g(x1,y1)-c)<0:\n",
    "        tmp=lambda x : g(x,y1)-c  \n",
    "        return dichotomie(tmp,x0,x1,2**-26),y1\n",
    "    if (g(x1,y1)-c)*(g(x1,y0)-c)<0:\n",
    "        tmp=lambda x : g(x1,x)-c  \n",
    "        return x1,dichotomie(tmp,y0,y1,2**-26)\n",
    "    if (g(x1,y0)-c)*(g(x0,y0)-c)<0:\n",
    "        tmp=lambda x : g(x,y0)-c  \n",
    "        return dichotomie(tmp,x0,x1,2**-26),y0\n",
    "    else:\n",
    "        return None,None\n",
    "\n",
    "def case(f,c,x0,y0,x1,y1,delta):\n",
    "    X,Y=[],[]\n",
    "    x,y=find_seed_4(f,c,x0,y0,x1,y1)\n",
    "    if x!=None:\n",
    "        gradient=grad_f(x+0.00001,y+0.00001)\n",
    "        n=[gradient[1],-gradient[0]]\n",
    "        norme=np.sqrt(n[0]**2+n[1]**2)\n",
    "        if norme!=0:\n",
    "            x+=delta/norme*n[0]\n",
    "            y+=delta/norme*n[1]            \n",
    "        s = -1\n",
    "        if x0<=x<=x1 and y0<=y<=y1:\n",
    "            s = 1\n",
    "        while x0<=x<=x1 and y0<=y<=y1:\n",
    "            X.append(x)\n",
    "            Y.append(y)\n",
    "            gradient=grad_f(x+0.00001,y+0.00001)\n",
    "            n=[gradient[1],-gradient[0]]\n",
    "            norme=s*np.sqrt(n[0]**2+n[1]**2)\n",
    "            if norme!=0:\n",
    "                x+=delta/norme*n[0]\n",
    "                y+=delta/norme*n[1]\n",
    "            else:\n",
    "                break\n",
    "    return X,Y\n",
    "\n",
    "\n",
    "def contour(f, c=0.0, xc=[0.0,1.0], yc=[0.0,1.0], delta=0.01):\n",
    "    X, Y = [], []\n",
    "    n = len(xc) - 1\n",
    "    for i in range(n):\n",
    "        for j in range(n):\n",
    "            a,b = case(f,c,xc[i],yc[j],xc[i+1],yc[j+1],delta)\n",
    "            X += a\n",
    "            Y += b\n",
    "\n",
    "    return X,Y"
   ]
  },
  {
   "cell_type": "markdown",
   "metadata": {},
   "source": [
    "Nous essayons la fonction sur un exemple"
   ]
  },
  {
   "cell_type": "code",
   "execution_count": 15,
   "metadata": {},
   "outputs": [
    {
     "data": {
      "image/png": "[encoded data removed]",
      "text/plain": [
       "<Figure size 432x288 with 2 Axes>"
      ]
     },
     "metadata": {
      "needs_background": "light"
     },
     "output_type": "display_data"
    }
   ],
   "source": [
    "f=lambda x,y:2*(np.exp(-x**2-y**2)-np.exp(-(x-1)**2-(y-1)**2))\n",
    "X,Y=np.linspace(-2,3,100),np.linspace(-1,2,100)\n",
    "\n",
    "X,Y=np.meshgrid(X,Y)\n",
    "\n",
    "Z=f(X,Y)\n",
    "\n",
    "plt.pcolormesh(X, Y, Z,cmap='PuBu_r')\n",
    "plt.colorbar()\n",
    "case_x=10\n",
    "case_y=10\n",
    "X_l,Y_l=contour(f,0.0,list(np.linspace(-2,3,case_x)),list(np.linspace(-1,2,case_y)),0.001)\n",
    "plt.plot(X_l,Y_l,\".\",color=\"black\")\n",
    "\n",
    "X_l,Y_l=contour(f,0.5,list(np.linspace(-2,3,case_x)),list(np.linspace(-1,2,case_y)),0.001)\n",
    "plt.plot(X_l,Y_l,\".\",color=\"black\")\n",
    "\n",
    "X_l,Y_l=contour(f,-0.5,list(np.linspace(-2,3,case_x)),list(np.linspace(-1,2,case_y)),0.001)\n",
    "plt.plot(X_l,Y_l,\".\",color=\"black\")\n",
    "\n",
    "X_l,Y_l=contour(f,1.5,list(np.linspace(-2,3,case_x)),list(np.linspace(-1,2,case_y)),0.001)\n",
    "plt.plot(X_l,Y_l,\".\",color=\"black\")\n",
    "\n",
    "X_l,Y_l=contour(f,-1.5,list(np.linspace(-2,3,case_x)),list(np.linspace(-1,2,case_y)),0.001)\n",
    "plt.plot(X_l,Y_l,\".\",color=\"black\")\n",
    "\n",
    "plt.show()"
   ]
  },
  {
   "cell_type": "code",
   "execution_count": null,
   "metadata": {},
   "outputs": [],
   "source": []
  }
 ],
 "metadata": {
  "kernelspec": {
   "display_name": "Python 3",
   "language": "python",
   "name": "python3"
  },
  "language_info": {
   "codemirror_mode": {
    "name": "ipython",
    "version": 3
   },
   "file_extension": ".py",
   "mimetype": "text/x-python",
   "name": "python",
   "nbconvert_exporter": "python",
   "pygments_lexer": "ipython3",
   "version": "3.7.3"
  }
 },
 "nbformat": 4,
 "nbformat_minor": 2
}
