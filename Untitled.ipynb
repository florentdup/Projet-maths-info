{
 "cells": [
  {
   "cell_type": "markdown",
   "metadata": {},
   "source": [
    "# Projet numérique 2"
   ]
  },
  {
   "cell_type": "markdown",
   "metadata": {},
   "source": [
    "## Pas Fixe"
   ]
  },
  {
   "cell_type": "code",
   "execution_count": 21,
   "metadata": {},
   "outputs": [],
   "source": [
    "import matplotlib.pyplot as plt\n",
    "from numpy import *"
   ]
  },
  {
   "cell_type": "code",
   "execution_count": 22,
   "metadata": {},
   "outputs": [],
   "source": [
    "def solve_euler_explicit(f, x0, dt, tSim):\n",
    "    t = arange(x0[1],tSim,dt)\n",
    "    x = zeros(len(t))\n",
    "    x[0] = x0[0]\n",
    "    for i in range(1,len(t)):\n",
    "        x[i] = x[i-1] + dt * f(t[i-1], x[i-1])\n",
    "\n",
    "    return t, x"
   ]
  },
  {
   "cell_type": "markdown",
   "metadata": {},
   "source": [
    "On teste cette fonction avec équation différentielle ayant pour solution une exponentielle décroissante."
   ]
  },
  {
   "cell_type": "code",
   "execution_count": 23,
   "metadata": {},
   "outputs": [],
   "source": [
    "def f(t,x):\n",
    "    return -0.02*x"
   ]
  },
  {
   "cell_type": "code",
   "execution_count": 24,
   "metadata": {
    "scrolled": false
   },
   "outputs": [
    {
     "data": {
      "image/png": "[encoded data removed]",
      "text/plain": [
       "<Figure size 432x288 with 1 Axes>"
      ]
     },
     "metadata": {
      "needs_background": "light"
     },
     "output_type": "display_data"
    }
   ],
   "source": [
    "t, x = solve_euler_explicit(f,[1,0], 2, 100)\n",
    "y = exp(-0.02*t)\n",
    "plt.plot(t,x)\n",
    "plt.plot(t,y)\n",
    "plt.show()"
   ]
  },
  {
   "cell_type": "markdown",
   "metadata": {},
   "source": [
    "On voit que la notre fonction approchée approxime bien la solution même pour un grand pas."
   ]
  },
  {
   "cell_type": "code",
   "execution_count": 25,
   "metadata": {
    "scrolled": false
   },
   "outputs": [
    {
     "data": {
      "image/png": "[encoded data removed]",
      "text/plain": [
       "<Figure size 432x288 with 1 Axes>"
      ]
     },
     "metadata": {
      "needs_background": "light"
     },
     "output_type": "display_data"
    }
   ],
   "source": [
    "#la fonction intermédiaire permettant de calculer l'erreur de la solution trouvée\n",
    "def erreur(x,t,f):\n",
    "    return max(abs(x-f(t)))\n",
    "\n",
    "#Illustration de la convergence du schéma à l'ordre 1\n",
    "fig, ax = plt.subplots()\n",
    "\n",
    "listeDT = power(10,arange(-9.,-2,1))\n",
    "listeErr = []\n",
    "for dt in listeDT:\n",
    "    t, x = solve_euler_explicit(f,[1,0], dt, 1e-3)\n",
    "    listeErr.append(erreur(x,t,lambda t:exp(-0.02*t)))\n",
    "\n",
    "plt.plot(listeDT,listeErr,'*')\n",
    "ax.set_xscale('log')\n",
    "ax.set_yscale('log')\n",
    "plt.show()"
   ]
  },
  {
   "cell_type": "markdown",
   "metadata": {},
   "source": [
    "On observe bien le caractère convergent à l'ordre 1 du schéma (car on a une courbe linéaire) pour des pas relativement grands (de 10^-4 à 10^-7). Pour des pas plus petits que 10^-7, on observe des erreurs lié à l'arrondi."
   ]
  },
  {
   "cell_type": "markdown",
   "metadata": {},
   "source": [
    "On choisit ensuite la méthode de Heun comme schéma d'ordre 2."
   ]
  },
  {
   "cell_type": "code",
   "execution_count": 26,
   "metadata": {},
   "outputs": [
    {
     "data": {
      "image/png": "[encoded data removed]",
      "text/plain": [
       "<Figure size 432x288 with 1 Axes>"
      ]
     },
     "metadata": {
      "needs_background": "light"
     },
     "output_type": "display_data"
    }
   ],
   "source": [
    "def solve_heun_explicit(f, x0, dt, tSim):\n",
    "    t = arange(x0[1],tSim,dt)\n",
    "    x = zeros(len(t))\n",
    "    x[0] = x0[0]\n",
    "    for i in range(1,len(t)):\n",
    "        x[i] = x[i-1] + dt/2 * (f(t[i-1], x[i-1]) + f(t[i],x[i-1] + dt*f(t[i-1],x[i-1])))\n",
    "\n",
    "    return t, x\n",
    "\n",
    "#Illustration de la convergence du schéma à l'ordre 2\n",
    "fig, ax = plt.subplots()\n",
    "\n",
    "listeDT = power(10,arange(-7.,0,1))\n",
    "listeErr = []\n",
    "for dt in listeDT:\n",
    "    t, x = solve_heun_explicit(f,[1,0], dt, 1e-1)\n",
    "    listeErr.append(erreur(x,t,lambda t:exp(-0.02*t)))\n",
    "\n",
    "plt.plot(listeDT,listeErr,'*')\n",
    "ax.set_xscale('log')\n",
    "ax.set_yscale('log')\n",
    "plt.show()"
   ]
  },
  {
   "cell_type": "markdown",
   "metadata": {},
   "source": [
    "Pour les pas relativement grands, on voit une droite d'une pente plus grande qui montre (car l'échelle est logarithmique) qu'il s'agit bien d'un schéma d'ordre 2. On observe également les erreurs d'arrondi pour les pas plus petits."
   ]
  },
  {
   "cell_type": "markdown",
   "metadata": {},
   "source": [
    "La fonction suivante résoud une équation différentielle du premier ordre selon le schéma d'Euler explicite. Elle prend en argument f la fonction telle qui à x associe la dérivée de x, t0 et x0 la condition initiale, t_f le temps auquel le programme s'arrête, dtmin le pas de temps minimal entre 2 points calculés, dtmax le pas de temps entre 2 points enregistrés (et dtmax/2 le pas de temps maximal entre 2 points calculés) et atol la tolérance utilisée pour calculer le dt.\n",
    "Elle renvoie ts et xs.T : les listes des points enregistrés. Le programme enregistre un point tous les dtmax."
   ]
  },
  {
   "cell_type": "code",
   "execution_count": 27,
   "metadata": {},
   "outputs": [],
   "source": [
    "def solve_ivp_euler_explicit_variable_step(f, t0, x0, t_f, dtmin = 1e-16, dtmax = 0.01, atol = 1e-6):\n",
    "    \n",
    "    #initialisation\n",
    "    dt = dtmax/10; # le pas de temps dt initial est dtmax/10\n",
    "    ts, xs = [t0], [x0]  # on initialise les 2 listes où on stockera les points calculés avec le point initial\n",
    "    t = t0 #le temps du dernier point est le temps initial\n",
    "    ti = 0  #ti est le temps depuis le dernier point enregistré, il est donc initialisé à 0\n",
    "    x = x0 #le x du dernier point est le x du point initial\n",
    "    \n",
    "    while ts[-1] < t_f: \n",
    "        #A chaque itération de cette boucle on calcule un point d'enregistrement. \n",
    "        #Elle s'arrête lorsqu'on a atteint t_f le temps final\n",
    "        \n",
    "        while ti < dtmax:\n",
    "            #A chaque itération de cette boucle on calcule un nouveau point\n",
    "            #Elle s'arrête lorsqu'on a dépassé le prochain point à enregistrer\n",
    "            \n",
    "            t_next, ti_next, x_next = t + dt, ti + dt, x + dt * f(x)#on calcule le nouveau point selon le schéma Euler explicite\n",
    "            x_back = x_next - dt * f(x_next) #on recalcule le dernier point à partir du nouveau\n",
    "            \n",
    "            ratio_abs_error = atol / (linalg.norm(x_back-x)/2)\n",
    "            dt = 0.9 * dt * sqrt(ratio_abs_error)\n",
    "            #D'après les définitions précédentes, x_back - x = dt*(f(x_next) - f(x)), donc dt * ratio_abs_error est bien\n",
    "            #le dt_new de la question précédente. On a pris une marge de sécurité en rajoutant le facteur 0.9.\n",
    "            \n",
    "            if dt < dtmin:  #Si le pas de temps devient trop petit (la fonction est trop instable), la fonction raise une erreur\n",
    "                raise ValueError(\"Time step below minimum\")\n",
    "            elif dt > dtmax/2: #Si le pas de temps est trop grand, on prend dtmax/2\n",
    "                dt = dtmax/2\n",
    "            t, ti, x = t_next, ti_next, x_next #On prend le nouveau point comme point de départ\n",
    "            \n",
    "        #lorsqu'on a dépassé le prochain point à enregistrer, on va le calculer à partir du dernier point\n",
    "        dt2DT = dtmax - ti # dt2DT est le temps (négatif) qui sépare le dernier point et le point à calculer\n",
    "        t_next, ti_next, x_next = t + dt2DT, 0, x + dt2DT * f(x) #on calcule le point à enregistrer grâce au schéma d'Euler explicite \n",
    "        ts = vstack([ts,t_next]) \n",
    "        xs = vstack([xs,x_next]) #On rajoute le point à enregistrer dans la liste que l'on va return\n",
    "        t, ti, x = t_next, ti_next, x_next #on prend le point à enregistrer comme point de départ\n",
    "    return (ts, xs.T) #On return les listes solutions. \n",
    "    #Comme on a utilisé vstack, les listes sont verticales. La fonction return donc xs.T qui est une liste unidimensionnelle"
   ]
  },
  {
   "cell_type": "markdown",
   "metadata": {},
   "source": [
    "La fonction suivante est la même que la précédente mais modifié dans le but d'illustrer son fonctionnement."
   ]
  },
  {
   "cell_type": "code",
   "execution_count": 50,
   "metadata": {},
   "outputs": [],
   "source": [
    "def solve_ivp_euler_explicit_variable_step_illustr(f, t0, x0, t_f, dtmin = 1e-16, dtmax = 0.01, atol = 1e-6):\n",
    "    dt = dtmax/10;\n",
    "    ts, xs = [t0], [x0]\n",
    "    t = t0\n",
    "    ti = 0\n",
    "    x = x0\n",
    "    tr = []\n",
    "    xr = []\n",
    "    while ts[-1] < t_f: \n",
    "        while ti < dtmax:\n",
    "            t_next, ti_next, x_next = t + dt, ti + dt, x + dt * f(x)\n",
    "            x_back = x_next - dt * f(x_next)\n",
    "            ratio_abs_error = atol / (linalg.norm(x_back-x)/2)\n",
    "            dt = 0.9 * dt * sqrt(ratio_abs_error)\n",
    "            if dt < dtmin:\n",
    "                raise ValueError(\"Time step below minimum\")\n",
    "            elif dt > dtmax/2:\n",
    "                dt = dtmax/2\n",
    "            tr.append(t)\n",
    "            xr.append(x)\n",
    "            t, ti, x = t_next, ti_next, x_next\n",
    "        dt2DT = dtmax - ti\n",
    "        t_next, ti_next, x_next = t + dt2DT, 0, x + dt2DT * f(x)\n",
    "        ts = vstack([ts,t_next]) \n",
    "        xs = vstack([xs,x_next])\n",
    "        t, ti, x = t_next, ti_next, x_next\n",
    "    ts = ts.T\n",
    "    xs = xs.T\n",
    "    plt.scatter(tr,xr)\n",
    "    plt.scatter(ts,xs)\n",
    "    plt.show()"
   ]
  },
  {
   "cell_type": "code",
   "execution_count": 54,
   "metadata": {
    "scrolled": true
   },
   "outputs": [
    {
     "data": {
      "image/png": "[encoded data removed]",
      "text/plain": [
       "<Figure size 432x288 with 1 Axes>"
      ]
     },
     "metadata": {
      "needs_background": "light"
     },
     "output_type": "display_data"
    }
   ],
   "source": [
    "def g(x):\n",
    "    return 0.8*x\n",
    "\n",
    "solve_ivp_euler_explicit_variable_step_illustr(g,0,1,10,0.01,1,1)"
   ]
  },
  {
   "cell_type": "markdown",
   "metadata": {},
   "source": [
    "On voit que lorsque la fonction a une dérivée faible, peu des points sont calculés, et lorsque la dérivée devient plus élevée, plus de points sont calculés pour réduire l'erreur."
   ]
  },
  {
   "cell_type": "code",
   "execution_count": null,
   "metadata": {},
   "outputs": [],
   "source": []
  }
 ],
 "metadata": {
  "kernelspec": {
   "display_name": "Python 3",
   "language": "python",
   "name": "python3"
  },
  "language_info": {
   "codemirror_mode": {
    "name": "ipython",
    "version": 3
   },
   "file_extension": ".py",
   "mimetype": "text/x-python",
   "name": "python",
   "nbconvert_exporter": "python",
   "pygments_lexer": "ipython3",
   "version": "3.7.3"
  }
 },
 "nbformat": 4,
 "nbformat_minor": 2
}
