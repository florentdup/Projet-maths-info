{
 "cells": [
  {
   "cell_type": "markdown",
   "metadata": {},
   "source": [
    "# Projet Câble sous-marin"
   ]
  },
  {
   "cell_type": "markdown",
   "metadata": {},
   "source": [
    "# Partie théorique"
   ]
  },
  {
   "cell_type": "markdown",
   "metadata": {},
   "source": [
    "$\\textbf{Question 1}$ :<br><br>\n",
    "La loi forte des grands nombres nous autorise à estimer l'espérance conditionelle par la moyenne empirique de simulations conditionnelles. En effet la suite des variables aléatoires $\\frac{1}{K} \\sum\\limits_{k=0}^K L_{k}$ converge presque sûrement vers $\\mathbb{E}(L) $ (avec les $L_k$ des variables aléatoires indépendantes, de même loi que $L$, que l'on suppose intégrable ou de carré intégrable). En simulant la valeur de $\\frac{1}{K} \\sum\\limits_{k=0}^K L_{k}$, soit en calculant $\\frac{1}{K} \\sum\\limits_{k=0}^K l_{k}$ avec les $l_k$ le résultat de la k-ième simulation de $L$, on obtiendra une valeur proche de $\\mathbb{E}(L) $.<br><br>   On peut effectuer la même procedure avec des variable aléatoires $L'_k$ indépendante mais de loi $L|Z=z$ avec z un vecteur donné, pour avoir une éstimation de la longueur du cable avec certain points fixés."
   ]
  },
  {
   "cell_type": "markdown",
   "metadata": {},
   "source": [
    "$\\textbf{Question 2}$ :<br><br>\n",
    "On note $Y$ le vecteur aléatoire formé des composantes de $Z$ correspondant\n",
    "aux points de discrétisation sans observation.<br><br>\n",
    "Z est un vecteur aléatoire gaussien de matrice de covariance notée C calculée à partir de la distance entre les points et d'une fonction décroissante qui, appliquée auc coeffiscients d'une matrice de distance, donne une matrice définie positive (notée C aussi dans le polycopié).\n",
    "<br><br>\n",
    "    D'après le cours, si l'on note $C_y$ la matrice de covariance extraite de la matrice C pour les points fixés de Z (c'est donc la matrice qui contient uniquement les lignes et les colonnes dont l'indice correspond au numero d'un point de Z (en comptant à partir de zero) qui est fixé), alors $Y|Z=z$ est un vecteur gaussien qui admet pour densité la fonction: \\begin{equation} f_{Y|Z=z}:y \\rightarrow \\frac{1}{(2\\pi)^\\frac{n-n_f}{2} \\sqrt{\\det{C S_Y}}}\\exp(-\\frac{1}{2} (y-\\psi(z))^\\top [C S_Y] ^{-1} (y-\\psi(z)) \\end{equation}\n",
    " <br><br>\n",
    " avec $n$ le nombre de points considérés dans $Z$, et $n_f$ le nombre de points fixés, $\\psi(z) = m_Y + C_{Y,Z} C_{z}^{−1} (z − m_Z)$ ou $m_Y$ est le vecteur contenant les espérences des composantes de Y lorsqu'il n'y a pas de conditions et $C S_Y$  tel que  $C S_Y=C_Y − C_{Y,Z} C_Z^{−1}C_{Z,Y}$\n",
    " \n"
   ]
  },
  {
   "cell_type": "markdown",
   "metadata": {},
   "source": [
    "$\\textbf{Question 3}$ :<br><br>\n",
    "$Y = (Y_1, . . . , Y_p)$ est un vecteur de composantes gaussiennes indépendantes, d’espérance nulle et de variance 1.\n",
    "\n",
    "<br>\n",
    "Nous allons utiliser le théorème qui stipule qu'un vecteur aléatoire est gaussien si et seulements si toute combinaison linéaire de ses composantes est une variable aléatoire gausienne.<br>\n",
    "Prenons une composante de $RY$. Cette varaible aéatoire s'écrit comme une combinaison linéaire de composante de Y (car on a $[RY]_i=\\sum\\limits_{j=0}^p R_{ij}Y_j$  ).\n",
    "<br>\n",
    "Si on forme maintenant une combinaison linéaire quelconque de composante de $RY$, cette quantité va elle même pouvoir d'écrire comme un combinaison linéaire des composantes de $Y$. Le théorème nous dit donc que cette quantité est une variable aléatoire reelle gausienne.\n",
    "\n",
    "Ainsi, toute combinaison des composantes de $RY$ est une variable aléatoire gaussienne. Le théorème nous dis alors que RY est un vecteur gaussien, et donc que $Z=m + RY$ est un vecteur gaussien, car m est constant.\n",
    "<br> <br> \n",
    "On note C la matrice de covariance de Z.\n",
    "\n",
    "<br>\n",
    "Par linéarite de l'espérance, on a en calculant composante par composante:  $\\mathbb{E}(Z)=m$ et par indépendances des $Y_i$, pour $0\\leq i \\leq p-1$ et $0\\leq j \\leq p-1$: <br>  $C_{ij}=cov(Z_i,Z_j)=cov(m_i + \\sum\\limits_{k=0}^p R_{ik}Y_k,m_j + \\sum\\limits_{k=0}^p R_{jk}Y_k = \\sum\\limits_{k=0}^p R_{ik}R_{jk}\\mathbb{V}(Y_k)=\\sum\\limits_{k=0}^p R_{ik}R_{jk}={[R R^\\top}]_{ij}$ \n",
    "<br>\n",
    "Donc $C=R R^\\top$\n",
    "<br>\n",
    "On connaît ainsi entièrement la loi de $Z$.\n"
   ]
  },
  {
   "cell_type": "markdown",
   "metadata": {},
   "source": [
    "$\\textbf{Question 4}$ :<br><br>\n",
    "On connait déja les valeurs de Z pour les points ou il y a une observation. Il faut maintenant simuler le vecteur $Y$ de la question 2. Ce vecteur aléatoire est gaussien, et on connaît sa matrice de covariance $C_y=C S_y$ ainsi que son espérance  $\\psi(z) = m_Y + C_{Y,Z} C_{z}^{−1} (z − m_Z)$. <br> <br>\n",
    "\n",
    "On utilise la question précédente, qui nous permet de simuler à partir d'un vecteur gaussien de matrice de covariance la matrice identité et d'espérance nulle le vecteur gaussien qu'on cherche. \n",
    "On sait en effet simuler un vecteur gaussien de matrice de covariance la matrice identité et d'espérance nulle, cela  revient à simuler n fois une variable alétoire réelle gausienne)\n",
    " <br> <br>\n",
    " Pour que la méthode soit appliquable, il faut qu'il existe $R$ tel que $C_y=R R^\\top$. Une telle matrice existe car $C_y$ est symétrique et définie positive (par propriété sur le complément de Schur: C est symétrique définie positive et en réorganisant les colonnes et lignes de C pour regrouper les indices correspondant aux points observés et ceux non obervés entre eux, le bloc en bas à gauche est la transposée du bloc en haut à droite).<br> <br>Pour la trouver, on utilise la fonction numpy linalg.cholesky. "
   ]
  },
  {
   "cell_type": "markdown",
   "metadata": {},
   "source": [
    "# Partie code"
   ]
  },
  {
   "cell_type": "markdown",
   "metadata": {},
   "source": [
    "Voici la première partie du code donnée."
   ]
  },
  {
   "cell_type": "code",
   "execution_count": 3,
   "metadata": {},
   "outputs": [],
   "source": [
    "#Chargement de dépendances\n",
    "import numpy as np\n",
    "import matplotlib.pyplot as plt\n",
    "\n",
    "#Discrétisation\n",
    "A=0\n",
    "B=500\n",
    "\n",
    "N=101 #Nombre de points de discrétisation\n",
    "Delta = (B-A)/(N-1)\n",
    "discretization_indexes = np.arange(N)\n",
    "discretization = discretization_indexes*Delta\n",
    "\n",
    "#Paramètres du modèle\n",
    "mu=-5\n",
    "a = 50\n",
    "sigma2 = 12\n",
    "\n",
    "#Données\n",
    "observation_indexes = [0,20,40,60,80,100]\n",
    "depth = np.array([0,-4,-12.8,-1,-6.5,0])\n",
    "\n",
    "#Indices des composantes correspondant aux observations et aux componsantes non observées\n",
    "unknown_indexes=list(set(discretization_indexes)-set(observation_indexes))\n",
    "  \n",
    "\n",
    "    "
   ]
  },
  {
   "cell_type": "markdown",
   "metadata": {},
   "source": [
    "$\\textbf{Question 1}$ : On défini C qui retourne la covariance entre deux points (en prenant en argument la distance entre deux points"
   ]
  },
  {
   "cell_type": "code",
   "execution_count": 4,
   "metadata": {},
   "outputs": [],
   "source": [
    "def C(M,a,sigma2):\n",
    "    \n",
    "    return sigma2*np.exp(-M/a)"
   ]
  },
  {
   "cell_type": "markdown",
   "metadata": {},
   "source": [
    "$\\textbf{Question 2}$ : On défini mat_distance qui retourne la matrice de distance "
   ]
  },
  {
   "cell_type": "code",
   "execution_count": 5,
   "metadata": {},
   "outputs": [],
   "source": [
    "def matrice_distance(x):\n",
    "    A=np.array([x]*len(x)).T\n",
    "    B=np.array([x]*len(x))\n",
    "    return np.abs(A-B)"
   ]
  },
  {
   "cell_type": "markdown",
   "metadata": {},
   "source": [
    "$\\textbf{Question 3}$ : Le calcul de la matrice de covariance est réalisé par le code suivant:"
   ]
  },
  {
   "cell_type": "code",
   "execution_count": 6,
   "metadata": {},
   "outputs": [
    {
     "data": {
      "text/plain": [
       "array([[12.        , 11.76238408, 11.52947327, ...,  1.69030105,\n",
       "         1.65683085,  1.6240234 ],\n",
       "       [11.76238408, 12.        , 11.76238408, ...,  1.7244474 ,\n",
       "         1.69030105,  1.65683085],\n",
       "       [11.52947327, 11.76238408, 12.        , ...,  1.75928355,\n",
       "         1.7244474 ,  1.69030105],\n",
       "       ...,\n",
       "       [ 1.69030105,  1.7244474 ,  1.75928355, ..., 12.        ,\n",
       "        11.76238408, 11.52947327],\n",
       "       [ 1.65683085,  1.69030105,  1.7244474 , ..., 11.76238408,\n",
       "        12.        , 11.76238408],\n",
       "       [ 1.6240234 ,  1.65683085,  1.69030105, ..., 11.52947327,\n",
       "        11.76238408, 12.        ]])"
      ]
     },
     "execution_count": 6,
     "metadata": {},
     "output_type": "execute_result"
    }
   ],
   "source": [
    "matrice_covZ=C(matrice_distance(discretization_indexes),a,sigma2)\n",
    "matrice_covZ"
   ]
  },
  {
   "cell_type": "markdown",
   "metadata": {},
   "source": [
    "$\\textbf{Question 4}$ :"
   ]
  },
  {
   "cell_type": "code",
   "execution_count": 7,
   "metadata": {},
   "outputs": [],
   "source": [
    "cov_z= matrice_covZ[0:101:20, 0:101:20]\n",
    "cov_yz = np.transpose(np.delete(matrice_covZ, observation_indexes, axis=1)[0:101:20])\n",
    "cov_y = np.delete(np.delete(matrice_covZ, observation_indexes, axis=0), observation_indexes, axis=1)"
   ]
  },
  {
   "cell_type": "markdown",
   "metadata": {},
   "source": [
    "$\\textbf{Question 5}$ :"
   ]
  },
  {
   "cell_type": "code",
   "execution_count": 8,
   "metadata": {
    "scrolled": true
   },
   "outputs": [
    {
     "data": {
      "image/png": "[encoded data removed]",
      "text/plain": [
       "<Figure size 432x288 with 1 Axes>"
      ]
     },
     "metadata": {
      "needs_background": "light"
     },
     "output_type": "display_data"
    }
   ],
   "source": [
    "my = np.full((95,),-5)\n",
    "cov_z_inv = np.linalg.inv(cov_z)\n",
    "m_cond = my + np.dot(cov_yz, np.dot(cov_z_inv, depth - np.full((6,), -5))) #Attention erreur de signe ? dans la formule c'est marqué - et non + mais on voit ici que c'est + qui marche\n",
    "l = m_cond.copy()\n",
    "for i in range(6):\n",
    "    l = np.insert(l,observation_indexes[i],depth[i])\n",
    "plt.plot(l)\n",
    "plt.show()"
   ]
  },
  {
   "cell_type": "markdown",
   "metadata": {},
   "source": [
    "$\\textbf{Question 6}$ :"
   ]
  },
  {
   "cell_type": "code",
   "execution_count": 9,
   "metadata": {},
   "outputs": [
    {
     "data": {
      "image/png": "[encoded data removed]",
      "text/plain": [
       "<Figure size 432x288 with 1 Axes>"
      ]
     },
     "metadata": {
      "needs_background": "light"
     },
     "output_type": "display_data"
    }
   ],
   "source": [
    "csy = cov_y - np.dot(cov_yz, np.dot(cov_z_inv, np.transpose(cov_yz)))\n",
    "plt.plot(np.delete(np.arange(101),observation_indexes),np.diag(csy))\n",
    "plt.show()"
   ]
  },
  {
   "cell_type": "markdown",
   "metadata": {},
   "source": [
    "Les coefficients diagonaux de la matrice de covariance sont les variances des profondeurs. \n",
    "On observe donc que la variance de la profondeur augmente lorsque l'on s'éloigne des points connus, ce qui semble logique."
   ]
  },
  {
   "cell_type": "markdown",
   "metadata": {},
   "source": [
    "$\\textbf{Question 7}$ :"
   ]
  },
  {
   "cell_type": "code",
   "execution_count": 10,
   "metadata": {},
   "outputs": [
    {
     "data": {
      "image/png": "[encoded data removed]",
      "text/plain": [
       "<Figure size 432x288 with 1 Axes>"
      ]
     },
     "metadata": {
      "needs_background": "light"
     },
     "output_type": "display_data"
    }
   ],
   "source": [
    "def simulation():\n",
    "    y = np.random.randn(95)\n",
    "    R = np.linalg.cholesky(csy)\n",
    "    Z = m_cond + np.dot(R,y)\n",
    "    for i in range(6):\n",
    "        Z = np.insert(Z,observation_indexes[i],depth[i])\n",
    "    return Z\n",
    "Z = simulation()\n",
    "plt.plot(l ,label=\"points observés\")\n",
    "plt.plot(Z, label=\"valeurs simulées\")\n",
    "plt.legend()\n",
    "plt.show()"
   ]
  },
  {
   "cell_type": "markdown",
   "metadata": {},
   "source": [
    "On observe qu'on obtient bien des valeurs de profondeurs cohérentes avec les valeurs aux points d'observations : on a donc bien réalisé un conditionnement."
   ]
  },
  {
   "cell_type": "markdown",
   "metadata": {},
   "source": [
    "$\\textbf{Question 8}$ :"
   ]
  },
  {
   "cell_type": "code",
   "execution_count": 11,
   "metadata": {},
   "outputs": [],
   "source": [
    "def L(Z,delta):\n",
    "    S=0\n",
    "    for i in range(1,len(Z)):\n",
    "        S+=np.sqrt(delta**2+(Z[i]-Z[i-1])**2)\n",
    "    return S"
   ]
  },
  {
   "cell_type": "markdown",
   "metadata": {},
   "source": [
    "$\\textbf{Question 9}$ : Calcul de la longueur du cable:"
   ]
  },
  {
   "cell_type": "code",
   "execution_count": 12,
   "metadata": {},
   "outputs": [
    {
     "name": "stdout",
     "output_type": "stream",
     "text": [
      "longueur de l'espérance conditionnelle :  501.52272426219673\n",
      "espérance conditionnelle de la longueur :  505.95074052638535\n"
     ]
    }
   ],
   "source": [
    "def calcL(n):\n",
    "    L_tot = 0\n",
    "    for i in range(n):\n",
    "        L_tot += L(simulation(), Delta)\n",
    "    L_tot /= n\n",
    "    return L_tot\n",
    "    \n",
    "    \n",
    "l_m = L(l, Delta)\n",
    "print(\"longueur de l'espérance conditionnelle : \", l_m)\n",
    "L_tot = calcL(100)\n",
    "print(\"espérance conditionnelle de la longueur : \", L_tot)"
   ]
  },
  {
   "cell_type": "markdown",
   "metadata": {},
   "source": [
    "On remarque que la longueur de l'espérance conditionnelle est plus petite que l'espérance conditionnelle de la longueur. En effet alors que l'espérance conditionelle est le chemin le plus probable donc celui en ligne droite et donc le plus court, les chemins réels sont tous oscillants et donc plus longs. En conséquence, l'espérance conditionnelle de la longueur et plus longue et représente mieux la réalité."
   ]
  },
  {
   "cell_type": "markdown",
   "metadata": {},
   "source": [
    "$\\textbf{Question 10}$ : On représente L en fonction de la simulation réalisée."
   ]
  },
  {
   "cell_type": "code",
   "execution_count": 13,
   "metadata": {},
   "outputs": [
    {
     "data": {
      "image/png": "[encoded data removed]",
      "text/plain": [
       "<Figure size 432x288 with 1 Axes>"
      ]
     },
     "metadata": {
      "needs_background": "light"
     },
     "output_type": "display_data"
    }
   ],
   "source": [
    "list_Long = []\n",
    "for i in range(1,100):\n",
    "    list_Long.append(calcL(i))\n",
    "plt.plot([i for i in range(1,100)], list_Long)\n",
    "plt.show()"
   ]
  },
  {
   "cell_type": "markdown",
   "metadata": {},
   "source": [
    "La moyenne des longueurs de cables en fonction du nombre de simulations semble se stabiliser vers une valeur limite d'environ 475.8."
   ]
  },
  {
   "cell_type": "markdown",
   "metadata": {},
   "source": [
    "$\\textbf{Question 11}$ : "
   ]
  },
  {
   "cell_type": "code",
   "execution_count": 14,
   "metadata": {},
   "outputs": [
    {
     "data": {
      "image/png": "[encoded data removed]",
      "text/plain": [
       "<Figure size 432x288 with 1 Axes>"
      ]
     },
     "metadata": {
      "needs_background": "light"
     },
     "output_type": "display_data"
    }
   ],
   "source": [
    "depths = [L(simulation(), Delta) for i in range(100)]\n",
    "plt.hist(depths,bins='auto')\n",
    "plt.show()"
   ]
  },
  {
   "cell_type": "markdown",
   "metadata": {},
   "source": [
    "$\\textbf{Question 12}$ : La première méthode consiste en prendre l'intervalle autour de la moyenne des longeurs dans lequel il y a exactement 95% des valeurs."
   ]
  },
  {
   "cell_type": "code",
   "execution_count": 15,
   "metadata": {},
   "outputs": [
    {
     "name": "stdout",
     "output_type": "stream",
     "text": [
      "l'intervalle de confiance 95% est : [ 504.84314521930673  ,  507.22547431856106 ]\n"
     ]
    }
   ],
   "source": [
    "import statistics\n",
    "\n",
    "m = statistics.mean(depths)\n",
    "    \n",
    "depths = sorted(depths, key=lambda a: abs(a - m))\n",
    "\n",
    "taille = abs(depths[94] - m)\n",
    "\n",
    "print(\"l'intervalle de confiance 95% est : [\", m - taille, \" , \", m + taille, \"]\")"
   ]
  },
  {
   "cell_type": "markdown",
   "metadata": {},
   "source": [
    "La deuxième méthode consiste en calculer l'écart-type de l'échantillon. Le théorème centrale limite affirme que la loi de la moyenne converge vers un loi normale. On peut donc calculer l'intervalle de confiance à partir de l'écart-type."
   ]
  },
  {
   "cell_type": "code",
   "execution_count": 16,
   "metadata": {},
   "outputs": [
    {
     "name": "stdout",
     "output_type": "stream",
     "text": [
      "l'intervalle de confiance 95% est : [ 504.7598592504123  ,  507.30876028745547 ]\n"
     ]
    }
   ],
   "source": [
    "S = 0\n",
    "for x in depths:\n",
    "    S += (m - x)**2\n",
    "eType = np.sqrt(S/len(depths))\n",
    "taille2 = 1.96 * eType\n",
    "print(\"l'intervalle de confiance 95% est : [\", m - taille2, \" , \", m + taille2, \"]\")"
   ]
  },
  {
   "cell_type": "markdown",
   "metadata": {},
   "source": [
    "$\\textbf{Question 13}$ : En continuant le raisonnement de la 2e méthode on peut obtenir une estimation de la probabilité que la longueur du cable dépasse 525 m."
   ]
  },
  {
   "cell_type": "code",
   "execution_count": 20,
   "metadata": {},
   "outputs": [
    {
     "name": "stdout",
     "output_type": "stream",
     "text": [
      "L'estimation est :  0.0\n"
     ]
    }
   ],
   "source": [
    "from scipy.stats import norm\n",
    "print(\"L'estimation est : \",1 - norm.cdf(525,m,eType))"
   ]
  },
  {
   "cell_type": "markdown",
   "metadata": {},
   "source": [
    "$\\textbf{Question 14}$"
   ]
  },
  {
   "cell_type": "code",
   "execution_count": 21,
   "metadata": {},
   "outputs": [],
   "source": [
    "def sim(n):\n",
    "    print(\"Pour n = \",n)\n",
    "    depths = [L(simulation(), Delta) for i in range(n)]\n",
    "    plt.hist(depths,bins='auto')\n",
    "    plt.show()\n",
    "    \n",
    "    m = statistics.mean(depths)\n",
    "    \n",
    "    depths = sorted(depths, key=lambda a: abs(a - m))\n",
    "\n",
    "    taille = abs(depths[int(0.95*n) - 1] - m)\n",
    "\n",
    "    print(\"l'intervalle de confiance à 95% avec la première méthode est : [\", m - taille, \" , \", m + taille, \"]\")\n",
    "    S = 0\n",
    "    for x in depths:\n",
    "        S += (m - x)**2\n",
    "    eType = np.sqrt(S/len(depths))\n",
    "    taille2 = 1.96 * eType\n",
    "    print(\"l'intervalle de confiance à 95% avec la deuxième méthode est : [\", m - taille2, \" , \", m + taille2, \"]\")\n",
    "    print(\"L'estimation est : \",1 - norm.cdf(525,m,eType))"
   ]
  },
  {
   "cell_type": "code",
   "execution_count": 25,
   "metadata": {},
   "outputs": [
    {
     "name": "stdout",
     "output_type": "stream",
     "text": [
      "Pour n =  1000\n"
     ]
    },
    {
     "data": {
      "image/png": "[encoded data removed]",
      "text/plain": [
       "<Figure size 432x288 with 1 Axes>"
      ]
     },
     "metadata": {
      "needs_background": "light"
     },
     "output_type": "display_data"
    },
    {
     "name": "stdout",
     "output_type": "stream",
     "text": [
      "l'intervalle de confiance à 95% avec la première méthode est : [ 504.763766959544  ,  507.1744595059656 ]\n",
      "l'intervalle de confiance à 95% avec la deuxième méthode est : [ 504.76025806430846  ,  507.17796840120116 ]\n",
      "L'estimation est :  0.0\n",
      "Pour n =  10000\n"
     ]
    },
    {
     "data": {
      "image/png": "[encoded data removed]",
      "text/plain": [
       "<Figure size 432x288 with 1 Axes>"
      ]
     },
     "metadata": {
      "needs_background": "light"
     },
     "output_type": "display_data"
    },
    {
     "name": "stdout",
     "output_type": "stream",
     "text": [
      "l'intervalle de confiance à 95% avec la première méthode est : [ 504.7500688233484  ,  507.2173080268961 ]\n",
      "l'intervalle de confiance à 95% avec la deuxième méthode est : [ 504.7446000878244  ,  507.2227767624201 ]\n",
      "L'estimation est :  0.0\n",
      "Pour n =  100000\n"
     ]
    },
    {
     "data": {
      "image/png": "[encoded data removed]",
      "text/plain": [
       "<Figure size 432x288 with 1 Axes>"
      ]
     },
     "metadata": {
      "needs_background": "light"
     },
     "output_type": "display_data"
    },
    {
     "name": "stdout",
     "output_type": "stream",
     "text": [
      "l'intervalle de confiance à 95% avec la première méthode est : [ 504.73687993220443  ,  507.221448014592 ]\n",
      "l'intervalle de confiance à 95% avec la deuxième méthode est : [ 504.727707844405  ,  507.2306201023914 ]\n",
      "L'estimation est :  0.0\n"
     ]
    }
   ],
   "source": [
    "sim(1000)\n",
    "sim(10000)\n",
    "sim(100000)"
   ]
  }
 ],
 "metadata": {
  "kernelspec": {
   "display_name": "Python 3",
   "language": "python",
   "name": "python3"
  },
  "language_info": {
   "codemirror_mode": {
    "name": "ipython",
    "version": 3
   },
   "file_extension": ".py",
   "mimetype": "text/x-python",
   "name": "python",
   "nbconvert_exporter": "python",
   "pygments_lexer": "ipython3",
   "version": "3.7.3"
  }
 },
 "nbformat": 4,
 "nbformat_minor": 2
}
